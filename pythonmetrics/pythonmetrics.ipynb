{
 "cells": [
  {
   "cell_type": "markdown",
   "id": "9a04a984",
   "metadata": {},
   "source": [
    "# Intro to Data Manipulation and Linear Regression in Python"
   ]
  },
  {
   "cell_type": "markdown",
   "id": "cafc7daf",
   "metadata": {},
   "source": [
    "## Setup"
   ]
  },
  {
   "cell_type": "code",
   "execution_count": null,
   "id": "df0950e3",
   "metadata": {},
   "outputs": [],
   "source": [
    "# install required packages\n",
    "import subprocess\n",
    "\n",
    "def check_installation(package_name):\n",
    "    try:\n",
    "        __import__(package_name)\n",
    "        print(f\"{package_name} is installed.\")\n",
    "    except ImportError:\n",
    "        print(f\"{package_name} is not installed. Installing now...\")\n",
    "        subprocess.check_call([\"python\", \"-m\", \"pip\", \"install\", package_name])\n",
    "\n",
    "check_installation('numpy')\n",
    "check_installation('pandas')\n",
    "check_installation('statsmodels')\n",
    "check_installation('linearmodels')\n",
    "check_installation('stargazer')"
   ]
  },
  {
   "cell_type": "markdown",
   "id": "2cb37c64",
   "metadata": {},
   "source": [
    "##  Instructions to follow along\n",
    "\n",
    "It is recommended to follow along with the code examples during the lecture. All the codes presented in the slides are available in the \\textcolor{blue}{\\texttt{pythonmetrics.ipynb}} file that you can download by:\n",
    "\n",
    "- **Option 1**: Running \\textbf{\\textcolor{Fuchsia}{\\texttt{git pull}}} in the terminal from inside the repository folder we used for the class on web scraping.\n",
    "\n",
    "- **Option 2**: Downloading the notebook from Blackboard in the repository folder.\n",
    "\n",
    "# Intro\n",
    "\n",
    "## Our Goals for Today:\n",
    "\n",
    "1. Intro to numerical computing with NumPy\n",
    "\n",
    "2. Basics of data manipulation with Pandas\n",
    "\n",
    "3. OLS and IV Regression in Python\n",
    "\n",
    "\n",
    "# Intro to numerical computing with NumPy\n",
    "\n",
    "## What is NumPy?\n",
    "\n",
    "- [```NumPy```](https://numpy.org/) is the fundamental library for scientific computing in Python.\n",
    "\n",
    "- ```NumPy``` adds support for large, multi-dimensional arrays and matrices, along with a large collection of high-level mathematical functions to operate on these arrays.\n",
    "\n",
    "- A **numpy array** is a grid of values, all of the same type, and is indexed by a tuple of nonnegative integers.\n",
    "\n",
    "- Numpy arrays can be **one-dimensional** or **n-dimensional**.\n",
    "\n",
    "## Create Numpy Arrays\n",
    "\n",
    "- From a list:  ```np.array([1, 2, 3])```.\n",
    "\n",
    "- Array of Zeros: ```np.zeros(shape=(d0, d1, ...))```.\n",
    "\n",
    "- Array of Ones: ```np.ones(shape=(d0, d1, ...))```.\n",
    "\n",
    "- Array of random numbers: ```np.random.rand(d0, d1, ...)```.\n",
    "\n",
    "- Array of evenly spaced integers: ```np.arange(start,stop,step)```.\n",
    "\n",
    "- Array of evenly spaced numbers: ```np.linspace(start,stop,num)```."
   ]
  },
  {
   "cell_type": "code",
   "execution_count": 1,
   "id": "code_example_createarrays",
   "metadata": {},
   "outputs": [
    {
     "name": "stdout",
     "output_type": "stream",
     "text": [
      "Array of Zeros: [0. 0. 0. 0. 0.]\n",
      "Array of Random Numbers:\n",
      " [[0.75 0.15 0.73 0.43]\n",
      " [0.12 0.93 0.01 0.52]\n",
      " [0.71 0.37 0.31 0.1 ]]\n",
      "Array of Evenly Spaced Integers: [0 1 2 3 4]\n",
      "Array of Evenly Spaced Numbers: [0.   0.25 0.5  0.75 1.  ]\n"
     ]
    }
   ],
   "source": [
    "#| echo: true\n",
    "#| eval: true\n",
    "#| label: code_example_createarrays\n",
    "\n",
    "import numpy as np\n",
    "\n",
    "array1 = np.zeros(5)\n",
    "print('Array of Zeros:', array1)\n",
    "array2 = np.random.rand(3, 4).round(2)\n",
    "print('Array of Random Numbers:\\n', array2)\n",
    "array3 = np.arange(5)\n",
    "print('Array of Evenly Spaced Integers:', array3)\n",
    "array4 = np.linspace(0, 1, 5)\n",
    "print('Array of Evenly Spaced Numbers:', array4)"
   ]
  },
  {
   "cell_type": "markdown",
   "id": "cf8ba121",
   "metadata": {},
   "source": [
    "## Main Attributes of Numpy Arrays\n",
    "\n",
    "- ```ndim```: the number of dimensions of the array.\n",
    "\n",
    "- ```shape```: the size of the array along each dimension.\n",
    "\n",
    "- ```size```: the total number of elements of the array.\n",
    "\n",
    "- ```dtype```: the data type of the array ([see list](https://numpy.org/devdocs/user/basics.types.html))."
   ]
  },
  {
   "cell_type": "code",
   "execution_count": 2,
   "id": "code_example_attributes",
   "metadata": {},
   "outputs": [
    {
     "name": "stdout",
     "output_type": "stream",
     "text": [
      "Number of Dimensions: 2\n",
      "Shape: (3, 4)\n",
      "Size: 12\n",
      "Dtype: float64\n"
     ]
    }
   ],
   "source": [
    "#| echo: true\n",
    "#| eval: true\n",
    "#| label: code_example_attributes\n",
    "\n",
    "array = np.random.rand(3, 4)\n",
    "print('Number of Dimensions:', array.ndim)\n",
    "print('Shape:', array.shape)\n",
    "print('Size:', array.size)\n",
    "print('Dtype:', array.dtype)\n"
   ]
  },
  {
   "cell_type": "markdown",
   "id": "d4bc7b7f",
   "metadata": {},
   "source": [
    "## Main Methods of one-dimensional Numpy Arrays\n",
    "\n",
    "- **Reshape** the array with ```reshape()```.\n",
    "\n",
    "- **Transpose** the array with ```transpose()```.\n",
    "\n",
    "- You can use a number of **aggregate functions** on numpy arrays (e.g. ```sum()```, ```mean()```, ```std()```, ```var()```, ```max()```, ```min()```, ```median()```, ```quantile()```, ```argmax()```, ```argmin()```)."
   ]
  },
  {
   "cell_type": "code",
   "execution_count": 3,
   "id": "code_example_methods1",
   "metadata": {},
   "outputs": [
    {
     "name": "stdout",
     "output_type": "stream",
     "text": [
      "Reshaped Array:\n",
      " [[0 1]\n",
      " [2 3]]\n",
      "Transponsed Array:\n",
      " [0 1 2 3]\n",
      "Sum of Array: 6\n"
     ]
    }
   ],
   "source": [
    "#| echo: true\n",
    "#| eval: true\n",
    "#| label: code_example_methods1\n",
    "\n",
    "my_array = np.arange(4)\n",
    "print('Reshaped Array:\\n', my_array.reshape(2, 2))\n",
    "print('Transponsed Array:\\n', my_array.transpose())\n",
    "print('Sum of Array:', my_array.sum())"
   ]
  },
  {
   "cell_type": "markdown",
   "id": "3f6b60c7",
   "metadata": {},
   "source": [
    "## Main Methods of n-dimensional Numpy Arrays\n",
    "\n",
    "- You can use the methods of one-dimensional numpy arrays.\n",
    "    - You can **specify the axis** along which to compute the aggregate function (0 for rows, 1 for columns).\n",
    "\n",
    "- To **flatten** a n-dimensional numpy array, use the method ```flatten()```.\n",
    "\n",
    "- You can perform **linear algebra operations** with\n",
    "functions from ```numpy.linalg``` submodule. For instance:\n",
    "\n",
    "    - Invert a two-dimensional array with the function ```linalg.inv()```.\n",
    "    \n",
    "    - Compute the determinant of a two-dimensional array with the function ```linalg.det()```.\n",
    "    \n",
    "    - Compute the eigenvalues and eigenvectors of a two-dimensional array with the function ```linalg.eig()```."
   ]
  },
  {
   "cell_type": "code",
   "execution_count": 4,
   "id": "code_example_methods2",
   "metadata": {},
   "outputs": [
    {
     "name": "stdout",
     "output_type": "stream",
     "text": [
      "Sum along columns: [4 6]\n",
      "Flattened Array: [1 2 3 4]\n",
      "Inverted Array:\n",
      " [[-2.   1. ]\n",
      " [ 1.5 -0.5]]\n",
      "Determinant of Array: -2.0\n"
     ]
    }
   ],
   "source": [
    "#| echo: true\n",
    "#| eval: true\n",
    "#| label: code_example_methods2\n",
    "\n",
    "my_array = np.arange(1, 5).reshape(2, 2)\n",
    "\n",
    "# sum along columns\n",
    "print('Sum along columns:', my_array.sum(axis=0))\n",
    "\n",
    "# flatten the array\n",
    "print('Flattened Array:', my_array.flatten())\n",
    "\n",
    "# invert the array\n",
    "print('Inverted Array:\\n', np.linalg.inv(my_array))\n",
    "\n",
    "# compute the determinant\n",
    "print('Determinant of Array:', np.linalg.det(my_array).round(2))"
   ]
  },
  {
   "cell_type": "markdown",
   "id": "f4a6a0fb",
   "metadata": {},
   "source": [
    "## Basic Operations on Numpy Arrays\n",
    "\n",
    "1. **Element-wise and scalar operations** on numpy arrays (e.g. ```+```, ```-```, ```*```, ```/```, ```**```, ```%```, ```//```).\n",
    "\n",
    "2. **Matrix operations** on numpy arrays (e.g. ```np.matmul()```, ```np.dot()```).\n",
    "\n",
    "3. **Logical operations** on numpy arrays (e.g. ```&```, ```|```, ```~```, ```==```, ```!=```, ```>```, ```<```, ```>=```, ```<=```)."
   ]
  },
  {
   "cell_type": "code",
   "execution_count": 5,
   "id": "code_example_operations",
   "metadata": {},
   "outputs": [
    {
     "name": "stdout",
     "output_type": "stream",
     "text": [
      "Multiplication by a scalar: [2 4 6 8]\n",
      "Sum element-wise: [2 4 6 8]\n",
      "Dot Product: 30\n",
      "Matrix multiplication:\n",
      " [[1. 0.]\n",
      " [0. 1.]]\n",
      "Logical operations:\n",
      " [[False False]\n",
      " [ True  True]]\n"
     ]
    }
   ],
   "source": [
    "#| echo: true\n",
    "#| eval: true\n",
    "#| label: code_example_operations\n",
    "\n",
    "odimarray = np.arange(1, 5)\n",
    "ndimarray = odimarray.reshape(2, 2)\n",
    "\n",
    "print('Multiplication by a scalar:', odimarray * 2)\n",
    "print('Sum element-wise:', odimarray + odimarray)\n",
    "print('Dot Product:', np.dot(odimarray, odimarray))\n",
    "print('Matrix multiplication:\\n',\n",
    "np.matmul(ndimarray, np.linalg.inv(ndimarray)).round(2))\n",
    "print('Logical operations:\\n', ndimarray > 2)"
   ]
  },
  {
   "cell_type": "markdown",
   "id": "a3bd8af3",
   "metadata": {},
   "source": [
    "## Slice Numpy Arrays\n",
    "\n",
    "- One-dimensional numpy arrays can be **sliced** using the following syntax: ```array[start:stop:step]```.\n",
    "\n",
    " - Alternatively, use boolean arrays (i.e. **masks**):\n",
    "```array[array > 0]```.\n",
    "\n",
    "- N-dimensional numpy arrays can be **sliced along every dimension**.  Use \"```:```\" to select all elements along a dimension. Examples:\n",
    "    - ```array[start_1:stop_1:step_1,start_2:stop_2:step_2]```\n",
    "    - ```array[mask1, :]```."
   ]
  },
  {
   "cell_type": "code",
   "execution_count": 6,
   "id": "code_example_slice",
   "metadata": {},
   "outputs": [
    {
     "name": "stdout",
     "output_type": "stream",
     "text": [
      "Even Numbers: [0 2 4 6]\n",
      "Even Numbers: [0 2 4 6]\n",
      "First row: [1 2]\n",
      "First colum: [1 3]\n",
      "Diagonal: [1 4]\n"
     ]
    }
   ],
   "source": [
    "#| echo: true\n",
    "#| eval: true\n",
    "#| label: code_example_slice\n",
    "\n",
    "# extract even numbers\n",
    "print('Even Numbers:', np.arange(8)[::2])\n",
    "\n",
    "# extract even numbers with a mask\n",
    "print('Even Numbers:', np.arange(8)[np.arange(8) % 2 == 0])\n",
    "\n",
    "# extract first row\n",
    "my_array = np.arange(1, 5).reshape(2, 2)\n",
    "print('First row:', my_array[0, :])\n",
    "\n",
    "# extract first column\n",
    "print('First colum:', my_array[:, 0])\n",
    "\n",
    "# extract the diagonal\n",
    "print('Diagonal:', np.diag(my_array))"
   ]
  },
  {
   "cell_type": "markdown",
   "id": "750744cc",
   "metadata": {},
   "source": [
    "# Pandas for Data Cleaning and Manipulation\n",
    "\n",
    "## What is Pandas?\n",
    "\n",
    "- [```Pandas```](https://pypi.org/project/pandas/) is a library that provides high-performance, easy-to-use data structures and data analysis tools for the Python programming language.\n",
    "\n",
    "- It is built on top of ```NumPy``` and it is one of the most popular libraries for data manipulation in Python.\n",
    "\n",
    "- It is particularly useful for working with **tabular data** (e.g. data stored in a spreadsheet, database, or CSV file).\n",
    "\n",
    "## Pandas DataFrames and Series\n",
    "\n",
    "- The two main data structures in Pandas are ```Series``` and ```DataFrames```.\n",
    "\n",
    "- A **```Series```** is a one-dimensional array of indexed data.\n",
    "\n",
    "    - It can contain any type of data (e.g. integers, floats, strings, booleans, etc.).\n",
    "\n",
    "- A **```DataFrame```** is a two-dimensional array of indexed data.\n",
    "\n",
    "    - It can be thought of as a sequence of aligned ```Series``` objects that share the same index.\n",
    "\n",
    "    - The two dimensions of a ```DataFrame``` are commonly referred to as **rows**  (Axis 0) and **columns** (Axis 1).\n",
    "\n",
    "## Load data with Pandas\n",
    "\n",
    "- ```Pandas``` provides a set of methods to **load data from different sources** (e.g. csv, xls, dta, json, html, etc.).\n",
    "\n",
    "- The most common method is **```read_csv()```**, which loads data from a CSV file into a ```DataFrame```.\n",
    "\n",
    "- Other useful methods are: ```read_excel()```, ```read_stata()```, ```read_json()```, ```read_html()```.\n",
    "\n",
    "- In the first part of this lecture, we use the [```XBox Ebay Auctions Dataset```](https://www.modelingonlineauctions.com/datasets).\n",
    "\n",
    "- The dataset contains 1,861 bids from 93 Ebay auctions on XBox Consoles.\n",
    "\n",
    "- Columns:\n",
    "    - ```auctionid```: unique identifier of an auction\n",
    "    - ```bid```: bid placed by a bidder\n",
    "    - ```bidtime```: days since the start of the auction\n",
    "    - ```bidder```: eBay username of the bidder\n",
    "    - ```bidderrate```: user rating on eBay\n",
    "    - ```openbid```: the opening bid set by the seller\n",
    "    - ```price```: the closing price\n",
    "\n",
    "\\AddToHookNext{env/Highlighting/begin}{\\footnotesize}"
   ]
  },
  {
   "cell_type": "code",
   "execution_count": 8,
   "id": "code_example_load2",
   "metadata": {},
   "outputs": [],
   "source": [
    "#| echo: true\n",
    "#| eval: true\n",
    "#| label: code_example_load2\n",
    "\n",
    "# load auction data from Google Drive\n",
    "import pandas as pd\n",
    "url = 'https://drive.google.com/file/d/18kuZupHEijS-rJxhtxeLX6rwg2rVi9rE/view?usp=sharing'\n",
    "path = 'https://drive.google.com/uc?export=download&id='+url.split('/')[-2]\n",
    "df = pd.read_csv(path)"
   ]
  },
  {
   "cell_type": "markdown",
   "id": "0325eba0",
   "metadata": {},
   "source": [
    "## Explore Pandas Dataframes\n",
    "\n",
    "- View **general info** about the dataset with the method ```df.info()```.\n",
    "\n",
    "- View the **first (last) rows** of the dataset with the method ```df.head()``` (```df.tail()```).\n",
    "\n",
    "- Get the **number of rows and columns** with the attribute ```df.shape```.\n",
    "\n",
    "- Get **column (row) names** with the attribute ```df.columns``` (```df.index```).\n",
    "\n",
    "- Compute **numerical summary statistics** with the method ```df.describe()```.\n",
    "\n",
    "- Check number of **missing values** with ```df.isna().sum()``` and drop them with ```df.dropna()```.\n",
    "\n",
    "- Check number of **duplicates** with ```df.duplicated().sum()``` and drop them with ```df.drop_duplicates()```."
   ]
  },
  {
   "cell_type": "code",
   "execution_count": 9,
   "id": "code_example_exploredf",
   "metadata": {},
   "outputs": [
    {
     "name": "stdout",
     "output_type": "stream",
     "text": [
      "<class 'pandas.core.frame.DataFrame'>\n",
      "RangeIndex: 1861 entries, 0 to 1860\n",
      "Data columns (total 7 columns):\n",
      " #   Column      Non-Null Count  Dtype  \n",
      "---  ------      --------------  -----  \n",
      " 0   auctionid   1861 non-null   int64  \n",
      " 1   bid         1861 non-null   float64\n",
      " 2   bidtime     1861 non-null   float64\n",
      " 3   bidder      1849 non-null   object \n",
      " 4   bidderrate  1850 non-null   float64\n",
      " 5   openbid     1861 non-null   float64\n",
      " 6   price       1861 non-null   float64\n",
      "dtypes: float64(5), int64(1), object(1)\n",
      "memory usage: 101.9+ KB\n",
      "None\n"
     ]
    }
   ],
   "source": [
    "#| echo: true\n",
    "#| eval: true\n",
    "#| label: code_example_exploredf\n",
    "\n",
    "# print general information about the dataset\n",
    "print(df.info())"
   ]
  },
  {
   "cell_type": "code",
   "execution_count": 10,
   "id": "code_example_exploredf2",
   "metadata": {},
   "outputs": [
    {
     "name": "stdout",
     "output_type": "stream",
     "text": [
      "    auctionid     bid   bidtime       bidder  bidderrate  openbid  price\n",
      "0  8211480551   52.99  1.201505    hanna1104        94.0    49.99  311.6\n",
      "1  8211480551   50.99  1.203843      wrufai1        90.0    49.99  311.6\n",
      "2  8211480551  101.99  1.204433      wrufai1        90.0    49.99  311.6\n",
      "3  8211480551   57.00  1.708437  newberryhwt        14.0    49.99  311.6\n",
      "4  8211480551  144.48  3.089711    miloo2005         3.0    49.99  311.6\n"
     ]
    }
   ],
   "source": [
    "#| echo: true\n",
    "#| eval: true\n",
    "#| label: code_example_exploredf2\n",
    "\n",
    "# print first 5 rows\n",
    "print(df.head(5))"
   ]
  },
  {
   "cell_type": "code",
   "execution_count": 11,
   "id": "code_example_exploredf3",
   "metadata": {},
   "outputs": [
    {
     "name": "stdout",
     "output_type": "stream",
     "text": [
      "This is the shape of the DataFrame: (1861, 7)\n",
      "Number of missing values:\n",
      "auctionid      0\n",
      "bid            0\n",
      "bidtime        0\n",
      "bidder        12\n",
      "bidderrate    11\n",
      "openbid        0\n",
      "price          0\n",
      "dtype: int64\n",
      "Number of duplicates values:\n",
      "0\n"
     ]
    }
   ],
   "source": [
    "#| echo: true\n",
    "#| eval: true\n",
    "#| label: code_example_exploredf3\n",
    "\n",
    "# print the number of rows and columns\n",
    "print(\"This is the shape of the DataFrame:\", df.shape)\n",
    "\n",
    "# print number of missing values\n",
    "print('Number of missing values:')\n",
    "print(df.isna().sum())\n",
    "\n",
    "# print number of duplicated obs\n",
    "print('Number of duplicates values:')\n",
    "print(df.duplicated().sum())"
   ]
  },
  {
   "cell_type": "code",
   "execution_count": 12,
   "id": "code_example_exploredf4",
   "metadata": {},
   "outputs": [
    {
     "name": "stdout",
     "output_type": "stream",
     "text": [
      "          auctionid      bid  bidtime  bidderrate  openbid    price\n",
      "count  1.861000e+03  1861.00  1861.00     1850.00  1861.00  1861.00\n",
      "mean   8.213079e+09    86.03     5.16       30.51    22.22   149.09\n",
      "std    9.404018e+05    59.87     2.36      135.44    28.47    71.56\n",
      "min    8.211481e+09     0.01     0.00       -1.00     0.01    28.00\n",
      "25%    8.212339e+09    42.00     3.79        0.00     0.99   105.01\n",
      "50%    8.212848e+09    80.00     6.51        4.00     9.99   132.50\n",
      "75%    8.213516e+09   115.00     6.93       19.00    49.00   167.50\n",
      "max    8.214889e+09   405.00     7.00     2736.00   175.00   405.00\n"
     ]
    }
   ],
   "source": [
    "#| echo: true\n",
    "#| eval: true\n",
    "#| label: code_example_exploredf4\n",
    "\n",
    "# print summ stats\n",
    "print(df.describe().round(2))\n",
    "\n",
    "# print summ stats (latex)\n",
    "# print(df.describe().style.to_latex(hrules=True,\n",
    "# position_float='centering'))"
   ]
  },
  {
   "cell_type": "markdown",
   "id": "4cf2c2a7",
   "metadata": {},
   "source": [
    "## Main columns operations\n",
    "\n",
    "- **Change a column type** (e.g. string, int, float, data) with the method ```df['column_name'].astype('type')```.\n",
    "\n",
    "- **Rename** columns with the method ```df.rename(columns={'old_name': 'new_name'})```.\n",
    "\n",
    "- **Drop** columns with the method ```df.drop(columns=['column_name_1', 'column_name_2'])```.\n",
    "\n",
    "- Multiple ways to **create a new column**. Examples:\n",
    "\n",
    "    - By simple assignment: ```df['new_column_name'] = ...```.\n",
    "    - By using the ```assign()``` method: ```df.assign(new_column_name = ...)```.\n",
    "\n",
    "\\AddToHookNext{env/Highlighting/begin}{\\footnotesize}"
   ]
  },
  {
   "cell_type": "code",
   "execution_count": 13,
   "id": "code_example_columns1",
   "metadata": {},
   "outputs": [
    {
     "name": "stdout",
     "output_type": "stream",
     "text": [
      "['auctionid', 'bid', 'bidtime', 'bidder', 'bidderrate', 'openbid', 'price']\n",
      "['auctionid', 'bid', 'bidtime', 'bidder', 'user_rate', 'openbid', 'price', 'delta_price']\n"
     ]
    }
   ],
   "source": [
    "#| echo: true\n",
    "#| eval: true\n",
    "#| label: code_example_columns1\n",
    "\n",
    "# cast auctionid as string\n",
    "df['auctionid'] = df['auctionid'].astype(str)\n",
    "\n",
    "# print columns names \n",
    "print(df.columns.tolist())\n",
    "\n",
    "# new col for the diff between openbid and price\n",
    "df['delta_price'] =  df['price'] - df['openbid']\n",
    "\n",
    "# rename target column as species\n",
    "df.rename(columns={'bidderrate': 'user_rate'}, inplace=True)\n",
    "\n",
    "# print new columns names\n",
    "print(df.columns.tolist())"
   ]
  },
  {
   "cell_type": "markdown",
   "id": "45be2d49",
   "metadata": {},
   "source": [
    "- **Sort columns** with the method ```df.sort_values(by=['column_name_1', 'column_name_2'])```.\n",
    "\n",
    "- **Lambda functions** are useful to apply a function to a column:\n",
    "\n",
    "    - ```df['column_name'].apply(lambda x: x**2)```.\n",
    "    - ```df['column_name'].apply(lambda x: x**2 if x > 0 else x)```.\n",
    "\n",
    "- **Conditional assignment** (using Numpy): ```df['new_column_name'] = np.where(df['column_name'] > 0, 1, 0)```."
   ]
  },
  {
   "cell_type": "code",
   "execution_count": 14,
   "id": "code_example_columns",
   "metadata": {},
   "outputs": [],
   "source": [
    "#| echo: true\n",
    "#| eval: true\n",
    "#| label: code_example_columns\n",
    "\n",
    "# assign unknown to missing bidders with np.where\n",
    "df['bidder'] = np.where(df['bidder'].isna(),\n",
    "                        'unknown',\n",
    "                        df['bidder'])\n",
    "\n",
    "# create flag for winning bid\n",
    "df['is_winning_bid'] = np.where(df['bid'] == df['price'], 1, 0)                        \n",
    "\n",
    "# square bid\n",
    "df['bid_squared'] = df['bid'].apply(lambda x: x**2)"
   ]
  },
  {
   "cell_type": "code",
   "execution_count": 15,
   "id": "code_example_columns3",
   "metadata": {},
   "outputs": [
    {
     "name": "stdout",
     "output_type": "stream",
     "text": [
      "           bid  bidtime  user_rate  openbid    price  delta_price  \\\n",
      "count  1861.00  1861.00    1850.00  1861.00  1861.00      1861.00   \n",
      "mean     86.03     5.16      30.51    22.22   149.09       126.87   \n",
      "std      59.87     2.36     135.44    28.47    71.56        78.85   \n",
      "min       0.01     0.00      -1.00     0.01    28.00         1.99   \n",
      "25%      42.00     3.79       0.00     0.99   105.01        72.50   \n",
      "50%      80.00     6.51       4.00     9.99   132.50       112.52   \n",
      "75%     115.00     6.93      19.00    49.00   167.50       141.51   \n",
      "max     405.00     7.00    2736.00   175.00   405.00       404.99   \n",
      "\n",
      "       is_winning_bid  bid_squared  \n",
      "count         1861.00      1861.00  \n",
      "mean             0.06     10984.85  \n",
      "std              0.24     16445.72  \n",
      "min              0.00         0.00  \n",
      "25%              0.00      1764.00  \n",
      "50%              0.00      6400.00  \n",
      "75%              0.00     13225.00  \n",
      "max              1.00    164025.00  \n"
     ]
    }
   ],
   "source": [
    "#| echo: false\n",
    "#| eval: true\n",
    "#| label: code_example_columns3\n",
    "\n",
    "print(df.describe().round(2))"
   ]
  },
  {
   "cell_type": "markdown",
   "id": "39ee6033",
   "metadata": {},
   "source": [
    "## Subset Pandas DataFrames\n",
    "\n",
    "- Methods ```df.loc[]``` and ```df.iloc[]``` select **subsets of rows and columns**.\n",
    "\n",
    "    - ```df.loc[]``` selects rows and columns **by label** (i.e. column names and row names).\n",
    "    - ```df.iloc[]``` selects rows and columns **by position** (i.e. column and row numbers).\n",
    "\n",
    "- Alternatively, select a single column with ```df['column_name']``` and multiple columns with ```df[['column_name_1', 'column_name_2']]```.\n",
    "\n",
    "- Note that column is generally extracted as ```Series``` object, but can be transformed into a **numpy array** with ```df['column_name'].values``` or a **list** with ```df['column_name'].tolist()```."
   ]
  },
  {
   "cell_type": "code",
   "execution_count": 16,
   "id": "code_example_filter",
   "metadata": {},
   "outputs": [
    {
     "name": "stdout",
     "output_type": "stream",
     "text": [
      "    auctionid    bid\n",
      "0  8211480551  52.99\n",
      "1  8211480551  50.99\n",
      "    auctionid    bid\n",
      "0  8211480551  52.99\n",
      "1  8211480551  50.99\n",
      "     auctionid      bidder    bid\n",
      "10  8211480551      pkfury  306.6\n",
      "11  8211480551     wrufai1  311.6\n",
      "12  8211763485  wolomaster   10.0\n",
      "13  8211763485    deucekdp   11.0\n"
     ]
    }
   ],
   "source": [
    "#| echo: true\n",
    "#| eval: true\n",
    "#| label: code_example_filter\n",
    "\n",
    "# select the first 2 rows and the first 2 columns\n",
    "print(df.iloc[:2, :2])\n",
    "\n",
    "# alternative\n",
    "first_two_cols = df.columns[:2]\n",
    "print(df[first_two_cols].head(2))\n",
    "\n",
    "# select the rows 10-15 and the three columns\n",
    "print(df.loc[10:13, ['auctionid', 'bidder', 'bid']])"
   ]
  },
  {
   "cell_type": "markdown",
   "id": "878a5444",
   "metadata": {},
   "source": [
    "- Select **rows that match one condition** with ```df[df['column_name'] > 0]```.\n",
    "\n",
    "- Select **rows matching multiple conditions** with ```df[(df['column_name_1'] > 0) & (df['column_name_2'].isin(['val1', 'val2']))]```.\n",
    "\n",
    "- Alternatively, use the method ```df.query('column_name > 0')```.\n",
    "\n",
    "- Extract a **random subsample** with ```df.sample(n=10)```.\n",
    "\n",
    "- Two good practices:\n",
    "    - use the method ```df.copy()``` to make sure you create an ***independent* copy** of the dataframe. Example: ```df[df['column_name'] > 0].copy()```.\n",
    "    - use the method ```df.reset_index()``` to **reset the row names**."
   ]
  },
  {
   "cell_type": "code",
   "execution_count": 17,
   "id": "code_example_filter2",
   "metadata": {},
   "outputs": [],
   "source": [
    "#| echo: true\n",
    "#| eval: true\n",
    "#| label: code_example_filter2\n",
    "\n",
    "# create a dataframe with winning bids\n",
    "df_winningbids = df[df['is_winning_bid'] == 1].copy()\n",
    "\n",
    "# alternatively\n",
    "# df_winningbids = df.query(\"is_winning_bid == 1\").copy()\n",
    "\n",
    "# some auctions have multiple winning bids, keep only one\n",
    "df_winningbids.drop_duplicates(subset = ['auctionid'], inplace=True)\n",
    "\n",
    "# select columns of interest\n",
    "df_winningbids = df_winningbids[['auctionid', 'bidder']]\n",
    "# rename bidder column\n",
    "df_winningbids.rename(columns={'bidder': 'winning_bidder'},\n",
    "                                inplace=True)\n",
    "# reset row names                            \n",
    "df_winningbids.reset_index(drop=True, inplace=True)                         "
   ]
  },
  {
   "cell_type": "markdown",
   "id": "eff4c57c",
   "metadata": {},
   "source": [
    "## Groupby Operations\n",
    "\n",
    "- The ```groupby()``` method allows to **group rows** of a ```DataFrame``` together and **call aggregate functions**.\n",
    "\n",
    "-  Use the ```df.groupby('column_name')``` method to create a ```DataFrameGroupBy``` object.\n",
    "\n",
    "- Then, you can apply an aggregate function to the groupby object. Example: ```df_grouped.mean()```.\n",
    "\n",
    "- The ```agg()``` method allows to **apply multiple aggregate functions** at once to a grouped DataFrame.\n",
    "    - You can pass a dictionary to the ```agg()``` method to specify the aggregate functions (values) to apply to each column (key).\n",
    "\n",
    "- The ```transform()``` method allows to apply a function to each group and assign the result to a new column of the original dataset."
   ]
  },
  {
   "cell_type": "code",
   "execution_count": 18,
   "id": "code_example_groupby",
   "metadata": {},
   "outputs": [
    {
     "name": "stdout",
     "output_type": "stream",
     "text": [
      "    auctionid  max_bidtime  max_delta_price  n_bidders\n",
      "0  8211480551     6.997338           261.61          9\n",
      "1  8211763485     6.999780           129.31         12\n"
     ]
    }
   ],
   "source": [
    "#| echo: true\n",
    "#| eval: true\n",
    "#| label: code_example_groupby\n",
    "\n",
    "# group df by auctionid and user\n",
    "grouped_df = df.groupby(['auctionid'])\n",
    "\n",
    "# group by auction and user and compute avg and std\n",
    "auctions_max = grouped_df.agg({'bidtime':'max',\n",
    "                                'delta_price': 'max',\n",
    "                                'bidder': 'nunique'})\n",
    "# rename columns and rows                                            \n",
    "auctions_max.columns = ['max_bidtime', 'max_delta_price','n_bidders']\n",
    "\n",
    "auctions_max.reset_index(inplace=True)                                          \n",
    "\n",
    "# add a col with number of bids per user\n",
    "df['n_bidders'] = grouped_df.transform('size')\n",
    "\n",
    "print(auctions_max.head(2))"
   ]
  },
  {
   "cell_type": "markdown",
   "id": "d2236350",
   "metadata": {},
   "source": [
    "## Merge DataFrames\n",
    "\n",
    "- The ```merge()``` method allows to merge two ```DataFrame``` objects together.\n",
    "\n",
    "- There are four types of joins:\n",
    "\n",
    "    - **Inner join**: only keep rows that match from both ```DataFrame``` objects.\n",
    "    - **Left join**: keep all rows from the left ```DataFrame``` object and only keep rows that match from the right ```DataFrame``` object.\n",
    "    - **Right join**: keep all rows from the right ```DataFrame``` object and only keep rows that match from the left ```DataFrame``` object.\n",
    "    - **Outer join**: keep all rows from both ```DataFrame``` objects.\n",
    "\n",
    "- The ```merge()``` method has the following arguments:\n",
    "\n",
    "    - ```left```: the left ```DataFrame``` object.\n",
    "    - ```right```: the right ```DataFrame``` object.\n",
    "    - ```how```: the type of join.\n",
    "    - ```on```: the column(s) to join on."
   ]
  },
  {
   "cell_type": "code",
   "execution_count": 19,
   "id": "code_example_merge",
   "metadata": {},
   "outputs": [
    {
     "name": "stdout",
     "output_type": "stream",
     "text": [
      "True\n"
     ]
    }
   ],
   "source": [
    "#| echo: true\n",
    "#| eval: true\n",
    "#| label: code_example_merge\n",
    "\n",
    "# add data on winning user\n",
    "df_merged = pd.merge(left =df, \n",
    "              right=df_winningbids,\n",
    "              how='inner',\n",
    "              on='auctionid')\n",
    "\n",
    "# check we have the same number of rows\n",
    "print(df.shape[0] == df_merged.shape[0])"
   ]
  },
  {
   "cell_type": "markdown",
   "id": "63f11cf9",
   "metadata": {},
   "source": [
    "## Concatenate DataFrames\n",
    "\n",
    "- The ```concat()``` method allows **to concatenate** two or more ```DataFrame``` objects together.\n",
    "\n",
    "- The ```axis``` argument specifies the axis along which to concatenate the ```DataFrame``` objects (0 for rows, 1 for columns)."
   ]
  },
  {
   "cell_type": "code",
   "execution_count": 20,
   "id": "code_example_concat",
   "metadata": {},
   "outputs": [
    {
     "name": "stdout",
     "output_type": "stream",
     "text": [
      "True\n"
     ]
    }
   ],
   "source": [
    "#| echo: true\n",
    "#| eval: true\n",
    "#| label: code_example_concat\n",
    "\n",
    "# create a list of dataframes\n",
    "df_list = [df[df['is_winning_bid'] == i].copy()\n",
    "                            for i in range(2)]\n",
    "\n",
    "# concatenate row-wise the dataframes in the list\n",
    "df_concat = pd.concat(objs=df_list, axis=0)\n",
    "\n",
    "# check we have the same number of rows\n",
    "print(df.shape[0] == df_concat.shape[0])\n",
    "\n",
    "# delete the list of dataframes and df_concat\n",
    "del df_list, df_concat"
   ]
  },
  {
   "cell_type": "markdown",
   "id": "be9486d6",
   "metadata": {},
   "source": [
    "## Simple Plotting with Pandas\n",
    "\n",
    "- The ```plot()``` method allows to plot a ```DataFrame``` object.\n",
    "\n",
    "- The ```kind``` argument specifies the type of plot (e.g. ```'line'```, ```'bar'```, ```'hist'```, ```'box'```, ```'scatter'```, ```'pie'```, ```'hexbin'```).\n",
    "\n",
    "- The ```x``` and ```y``` arguments specify the columns to plot.\n",
    "\n",
    "- Various arguments allow to customize the plot (e.g. ```title```, ```xlabel```, ```ylabel```, ```color```, ```alpha```, ```grid```, ```legend```, ```rot```).\n",
    "\n",
    "- Very useful to quickly explore the data."
   ]
  },
  {
   "cell_type": "code",
   "execution_count": 22,
   "id": "code_example_plot",
   "metadata": {},
   "outputs": [
    {
     "data": {
      "application/pdf": "[encoded data removed]",
      "text/plain": [
       "<Figure size 3000x2100 with 1 Axes>"
      ]
     },
     "metadata": {},
     "output_type": "display_data"
    }
   ],
   "source": [
    "#| echo: false\n",
    "#| eval: true\n",
    "#| label: code_example_plot\n",
    "\n",
    "df['n_bidders'].plot(kind='hist',\n",
    "                    title='Distribution of the number of bids per auction',\n",
    "                    xlabel='Number of bids',\n",
    "                    ylabel='Frequency',\n",
    "                    color='blue',\n",
    "                    alpha=0.5,\n",
    "                    grid=True)\n",
    "\n",
    "plt.show()"
   ]
  },
  {
   "cell_type": "code",
   "execution_count": 23,
   "id": "code_example_plot2",
   "metadata": {},
   "outputs": [
    {
     "data": {
      "application/pdf": "[encoded data removed]",
      "text/plain": [
       "<Figure size 3000x2100 with 1 Axes>"
      ]
     },
     "metadata": {},
     "output_type": "display_data"
    }
   ],
   "source": [
    "#| echo: false\n",
    "#| eval: true\n",
    "#| label: code_example_plot2\n",
    "\n",
    "# relation between the number of bids and the price\n",
    "df.plot(kind='scatter',\n",
    "        x='n_bidders',\n",
    "        y='price',\n",
    "        title='Relation between the number of bids and the price',\n",
    "        xlabel='Number of bids',\n",
    "        ylabel='Price',\n",
    "        color='blue',\n",
    "        alpha=0.5,\n",
    "        grid=True)\n",
    "\n",
    "plt.show()"
   ]
  },
  {
   "cell_type": "markdown",
   "id": "4bc8bb89",
   "metadata": {},
   "source": [
    "# OLS and IV Regression in Python\n",
    "\n",
    "## Main Libraries for Linear Regression in Python\n",
    "\n",
    "- [```statsmodels```](https://www.statsmodels.org/stable/index.html) is a Python module that provides classes and functions for the estimation of many different statistical models, as well as for conducting statistical tests, and statistical data exploration.\n",
    "\n",
    "- [```linearmodels```](https://bashtage.github.io/linearmodels/) is a Python module that provides classes and functions for the estimation of linear models using OLS and IV, tests and statistics for linear models, and panel data models (and much more)\n",
    "\n",
    "- Other libraries (extremely popular in ML) like [```scikit-learn```](https://scikit-learn.org/stable/)\n",
    "\n",
    "\n",
    "## Running Linear Regressions with Statsmodels\n",
    "\n",
    "- The ```statsmodels``` module provides the ```ols()``` method to run linear regressions.\n",
    "\n",
    "-  You can define the specification by using the ```formula``` argument.\n",
    "E.g.: ```Y ~ X1 + X2```\n",
    "\n",
    "- To run the model, use the ```fit()``` method.\n",
    "\n",
    "- Results can be explored with the ```summary()``` method.\n",
    "\n",
    "- Get more details on the available methods and attributes [here](https://www.statsmodels.org/dev/generated/statsmodels.regression.linear_model.RegressionResults.html).\n",
    "    - You can also explore available methods and attributes with ```dir(your_model)```.\n",
    "\n",
    "\n",
    "\\AddToHookNext{env/verbatim/begin}{\\scriptsize}"
   ]
  },
  {
   "cell_type": "code",
   "execution_count": 25,
   "id": "code_example_linear",
   "metadata": {},
   "outputs": [
    {
     "name": "stdout",
     "output_type": "stream",
     "text": [
      "                            OLS Regression Results                            \n",
      "==============================================================================\n",
      "Dep. Variable:        max_delta_price   R-squared:                       0.355\n",
      "Model:                            OLS   Adj. R-squared:                  0.348\n",
      "Method:                 Least Squares   F-statistic:                     50.01\n",
      "Date:                Tue, 31 Oct 2023   Prob (F-statistic):           3.04e-10\n",
      "Time:                        16:06:14   Log-Likelihood:                -512.15\n",
      "No. Observations:                  93   AIC:                             1028.\n",
      "Df Residuals:                      91   BIC:                             1033.\n",
      "Df Model:                           1                                         \n",
      "Covariance Type:            nonrobust                                         \n",
      "==============================================================================\n",
      "                 coef    std err          t      P>|t|      [0.025      0.975]\n",
      "------------------------------------------------------------------------------\n",
      "Intercept     -0.1603     15.269     -0.011      0.992     -30.490      30.169\n",
      "n_bidders     11.4102      1.613      7.072      0.000       8.205      14.615\n",
      "==============================================================================\n",
      "Omnibus:                       64.397   Durbin-Watson:                   2.075\n",
      "Prob(Omnibus):                  0.000   Jarque-Bera (JB):              311.822\n",
      "Skew:                           2.271   Prob(JB):                     1.94e-68\n",
      "Kurtosis:                      10.736   Cond. No.                         23.3\n",
      "==============================================================================\n",
      "\n",
      "Notes:\n",
      "[1] Standard Errors assume that the covariance matrix of the errors is correctly specified.\n"
     ]
    }
   ],
   "source": [
    "#| echo: false\n",
    "#| eval: true\n",
    "#| label: code_example_linear\n",
    "\n",
    "# import statsmodels library\n",
    "import statsmodels.formula.api as sm\n",
    "\n",
    "# define the formula\n",
    "formula = 'max_delta_price ~ n_bidders'\n",
    "\n",
    "# run the regression\n",
    "model = sm.ols(formula=formula, data=auctions_max).fit()\n",
    "\n",
    "# print the results\n",
    "print(model.summary())"
   ]
  },
  {
   "cell_type": "markdown",
   "id": "2324a27c",
   "metadata": {},
   "source": [
    "- You can access:\n",
    "\n",
    "    - the **coefficients** of a linear regression with the ```params``` attribute.\n",
    "\n",
    "    - the **fitted values** of a linear regression with the ```fittedvalues``` attribute.\n",
    "\n",
    "    - the **residuals** of a linear regression with the ```resid``` attribute."
   ]
  },
  {
   "cell_type": "code",
   "execution_count": 26,
   "id": "code_example_linear2",
   "metadata": {},
   "outputs": [
    {
     "name": "stdout",
     "output_type": "stream",
     "text": [
      "Coefficients:\n",
      " Intercept    -0.160349\n",
      "n_bidders    11.410153\n",
      "dtype: float64\n",
      "    auctionid     bidder   residuals  fitted_values\n",
      "0  8211480551  hanna1104  159.078976     102.531024\n",
      "1  8211480551    wrufai1   -7.451481     136.761481\n"
     ]
    }
   ],
   "source": [
    "#| echo: true\n",
    "#| eval: true\n",
    "#| label: code_example_linear2\n",
    "\n",
    "# get the coefficients\n",
    "print(\"Coefficients:\\n\", model.params)\n",
    "\n",
    "# store residuals and fitted values in the DataFrame\n",
    "df['fitted_values'] = model.fittedvalues\n",
    "df['residuals'] = model.resid\n",
    "print(df[['auctionid', 'bidder', 'residuals', 'fitted_values']].head(2))"
   ]
  },
  {
   "cell_type": "markdown",
   "id": "a3f2d7e6",
   "metadata": {},
   "source": [
    "## Advanced Options for Linear Regressions with Statsmodels\n",
    "\n",
    "- To use robust or clustered covariance, use the method ```get_robustcov_results()```. \n",
    "    - Choose the covariance type with the ```cov_type``` argument ([see types](https://www.statsmodels.org/stable/generated/statsmodels.regression.linear_model.RegressionResults.get_robustcov_results.html#statsmodels.regression.linear_model.RegressionResults.get_robustcov_results))\n",
    "\n",
    "- You can add fixed effects within the formula with the ```C()``` function. See more details [```here```](https://www.statsmodels.org/stable/example_formulas.html). \n",
    "    - In presence of high-dimensional fixed effects, it is better to use other libraries (e.g. [```pyHDFE```](https://pyhdfe.readthedocs.io)).\n",
    "      However, Stata (reghdfe) and R (fixest) implementations are generally faster.\n",
    "\n",
    "- You can add interactions terms within the formula with the ```*``` operator.\n",
    "\n",
    "\\AddToHookNext{env/verbatim/begin}{\\scriptsize}"
   ]
  },
  {
   "cell_type": "code",
   "execution_count": 28,
   "id": "code_example_fixeff",
   "metadata": {},
   "outputs": [
    {
     "name": "stdout",
     "output_type": "stream",
     "text": [
      "                            OLS Regression Results                            \n",
      "==============================================================================\n",
      "Dep. Variable:                    bid   R-squared:                       0.760\n",
      "Model:                            OLS   Adj. R-squared:                  0.750\n",
      "Method:                 Least Squares   F-statistic:                     47.84\n",
      "Date:                Tue, 31 Oct 2023   Prob (F-statistic):           3.71e-26\n",
      "Time:                        16:06:14   Log-Likelihood:                -564.52\n",
      "No. Observations:                 117   AIC:                             1141.\n",
      "Df Residuals:                     111   BIC:                             1158.\n",
      "Df Model:                           5                                         \n",
      "Covariance Type:                  HC1                                         \n",
      "==============================================================================================\n",
      "                                 coef    std err          t      P>|t|      [0.025      0.975]\n",
      "----------------------------------------------------------------------------------------------\n",
      "Intercept                     97.8826     18.080      5.414      0.000      62.056     133.709\n",
      "C(auctionid)[T.8211763485]  -119.5862     16.900     -7.076      0.000    -153.074     -86.098\n",
      "C(auctionid)[T.8211851222]  -131.3167     18.754     -7.002      0.000    -168.479     -94.154\n",
      "C(auctionid)[T.8212110388]  -161.1533     17.833     -9.037      0.000    -196.491    -125.816\n",
      "C(auctionid)[T.8212116757]   -98.5913     18.624     -5.294      0.000    -135.496     -61.687\n",
      "bidtime                       19.0869      1.948      9.796      0.000      15.226      22.948\n",
      "==============================================================================\n",
      "Omnibus:                        6.269   Durbin-Watson:                   0.679\n",
      "Prob(Omnibus):                  0.044   Jarque-Bera (JB):                5.763\n",
      "Skew:                           0.473   Prob(JB):                       0.0560\n",
      "Kurtosis:                       3.536   Cond. No.                         44.0\n",
      "==============================================================================\n",
      "\n",
      "Notes:\n",
      "[1] Standard Errors are heteroscedasticity robust (HC1)\n"
     ]
    }
   ],
   "source": [
    "#| echo: false\n",
    "#| eval: true\n",
    "#| label: code_example_fixeff\n",
    "\n",
    "# keep only 5 auctions\n",
    "df_5auctions = df[df['auctionid'].isin(df['auctionid'].unique()[:5])]\n",
    "\n",
    "# define the formula with fixed effects\n",
    "formula_new = 'bid ~ bidtime + C(auctionid)'\n",
    "\n",
    "# run the regression\n",
    "model2 = sm.ols(formula=formula_new, data=df_5auctions).fit()\n",
    "\n",
    "# print the results\n",
    "print(model2.get_robustcov_results(cov_type='HC1').summary())"
   ]
  },
  {
   "cell_type": "markdown",
   "id": "f1587251",
   "metadata": {},
   "source": [
    "## Diagnostic Tests\n",
    "\n",
    "- Statsmodels provides a number of diagnostic tests for linear regressions.\n",
    "\n",
    "- You can run diagnostic tests for linear regressions with the **```stats``` module**. Examples:\n",
    "\n",
    "    - Run the **Breusch-Pagan test** for heteroskedasticity with the ```diagnostic.het_breuschpagan()``` function.\n",
    "\n",
    "    - Run the **White test** for heteroskedasticity with the ```diagnostic.het_white()``` function.\n",
    "\n",
    "    - Run the **Jarque-Bera test** for normality with the ```stattools.jarque_bera()``` function.\n",
    "\n",
    "    - See more details [```here```](https://www.statsmodels.org/dev/diagnostic.html)."
   ]
  },
  {
   "cell_type": "code",
   "execution_count": 29,
   "id": "code_example_diagnostic",
   "metadata": {},
   "outputs": [],
   "source": [
    "#| echo: true\n",
    "#| eval: false\n",
    "#| label: code_example_diagnostic\n",
    "\n",
    "# import modules for tests\n",
    "import statsmodels.stats.diagnostic as diagnostic\n",
    "import statsmodels.stats.stattools as stattools\n",
    "\n",
    "# run the Breusch-Pagan test for heteroskedasticity\n",
    "print(\"Results Breusch-Pagan test:\",\n",
    "diagnostic.het_breuschpagan(model2.resid, model2.model.exog))\n",
    "\n",
    "# run the White test for heteroskedasticity\n",
    "print(\"Results White test:\",\n",
    "diagnostic.het_white(model2.resid, model2.model.exog))\n",
    "\n",
    "# run the Jarque-Bera test for normality\n",
    "print(\"Results Jarque-Bera test:\",\n",
    "stattools.jarque_bera(model2.resid))"
   ]
  },
  {
   "cell_type": "markdown",
   "id": "995280f9",
   "metadata": {},
   "source": [
    "## IV Regressions with linearmodels\n",
    "\n",
    "- The ```linearmodels``` module provides the ```IV2SLS()``` class to run IV regressions.\n",
    "\n",
    "- You can define a formula to run an IV regression with the ```from_formula()``` method. The instrumented variable and the instruments should be\n",
    "included inside square brackets. \n",
    "    - E.g.: ```Y ~ 1 + [X1 ~ Z1 + Z2] + X2```\n",
    "\n",
    "- You can run an IV regression with the ```fit()``` method.\n",
    "\n",
    "- The estimated coefficients are stored in the ```params``` attribute.\n",
    "\n",
    "- You can access the first stage results with the ```first_stage``` attribute.\n",
    "\n",
    "- Many other useful methods and attributes, see details [```here```](https://bashtage.github.io/linearmodels/iv/iv/linearmodels.iv.results.IVResults.html).\n",
    "    - For instance, the ```sargan``` attribute returns the results of the Sargan  test of overidentification.\n",
    "    \n",
    "\n",
    "- In this section, we will use the [```Angrist and Krueger (1991)```](https://www.jstor.org/stable/2937954) dataset.\n",
    "\n",
    "- Vary famous paper in which the authors use the quarter of birth as an instrument for years of schooling and estimate the returns to education.\n",
    "\n",
    "- The US compulsory attendance law dictates that children must be 6 years old by January 1 when they start school, leading to older entry for those born at the beginning of the year. Moreover, the law compels students to stay in school until age 16, resulting in individuals born later in the year having, on average, more education than those born earlier.\n",
    "\n",
    "- See [this tutorial](https://matheusfacure.github.io/python-causality-handbook/08-Instrumental-Variables.html) for a more detailed explanation."
   ]
  },
  {
   "cell_type": "code",
   "execution_count": 31,
   "id": "code_example_IV",
   "metadata": {},
   "outputs": [
    {
     "name": "stdout",
     "output_type": "stream",
     "text": [
      "        log_wage  years_of_schooling  year_of_birth  quarter_of_birth  \\\n",
      "count  329509.00           329509.00       329509.0         329509.00   \n",
      "mean        5.90               12.77           34.6              2.51   \n",
      "std         0.68                3.28            2.9              1.11   \n",
      "min        -2.34                0.00           30.0              1.00   \n",
      "25%         5.64               12.00           32.0              2.00   \n",
      "50%         5.95               12.00           35.0              3.00   \n",
      "75%         6.26               15.00           37.0              3.00   \n",
      "max        10.53               20.00           39.0              4.00   \n",
      "\n",
      "       state_of_birth         q1         q2         q3         q4  \n",
      "count       329509.00  329509.00  329509.00  329509.00  329509.00  \n",
      "mean            30.69       0.25       0.24       0.26       0.25  \n",
      "std             14.22       0.43       0.43       0.44       0.43  \n",
      "min              1.00       0.00       0.00       0.00       0.00  \n",
      "25%             19.00       0.00       0.00       0.00       0.00  \n",
      "50%             34.00       0.00       0.00       0.00       0.00  \n",
      "75%             42.00       0.00       0.00       1.00       0.00  \n",
      "max             56.00       1.00       1.00       1.00       1.00  \n"
     ]
    }
   ],
   "source": [
    "#| echo: false\n",
    "#| eval: true\n",
    "#| label: code_example_IV\n",
    "\n",
    "# auctions: https://drive.google.com/file/d/18kuZupHEijS-rJxhtxeLX6rwg2rVi9rE/view?usp=sharing\n",
    "\n",
    "# import the dataset used in Angrist and Krueger (1991)\n",
    "url = 'https://drive.google.com/file/d/1qNPuJWp0fK0I-8lHke59w9a1D2ZIcbTM/view?usp=sharing'\n",
    "path = 'https://drive.google.com/uc?export=download&id='+url.split('/')[-2]\n",
    "ak91 = pd.read_csv(path)\n",
    "\n",
    "# create dummies for quarters\n",
    "dummy_cols = ['q' + str((i+1)) for i in range(4)]\n",
    "ak91[dummy_cols] = pd.get_dummies(ak91[\"quarter_of_birth\"])\n",
    "ak91[dummy_cols] = ak91[dummy_cols].astype(int)\n",
    "\n",
    "# explore dataset statistics\n",
    "print(ak91.describe().round(2))"
   ]
  },
  {
   "cell_type": "code",
   "execution_count": 32,
   "id": "code_example_IV2-class",
   "metadata": {},
   "outputs": [],
   "source": [
    "#| echo: true\n",
    "#| eval: true\n",
    "#| label: code_example_IV2 class\n",
    "\n",
    "# import IV2SLS\n",
    "from linearmodels.iv import IV2SLS\n",
    "\n",
    "# subset the dataset\n",
    "ak91_red = ak91[(ak91['state_of_birth'].isin(range(6))) &\n",
    "                (ak91['year_of_birth'].isin(range(30, 34)))].copy()\n",
    "ak91_red.reset_index(drop=True, inplace=True)\n",
    "\n",
    "# define the formula\n",
    "full_formula = r'''\n",
    "log_wage ~  1 + C(year_of_birth) + C(state_of_birth) + \n",
    "[years_of_schooling ~ q1 + q2 + q3]'''\n",
    "\n",
    "# run the model\n",
    "modelIV = IV2SLS.from_formula(formula=full_formula, data=ak91_red)\n",
    "modelIV = modelIV.fit(cov_type=\"unadjusted\")\n",
    "\n",
    "# print(modelIV.summary)\n",
    "# print(modelIV.first_stage)"
   ]
  },
  {
   "cell_type": "markdown",
   "id": "8f4ab087",
   "metadata": {},
   "source": [
    "\\AddToHookNext{env/verbatim/begin}{\\scriptsize}"
   ]
  },
  {
   "cell_type": "code",
   "execution_count": 33,
   "id": "code_example_IV3",
   "metadata": {},
   "outputs": [
    {
     "name": "stdout",
     "output_type": "stream",
     "text": [
      "        First Stage Estimation Results       \n",
      "=============================================\n",
      "                           years_of_schooling\n",
      "---------------------------------------------\n",
      "R-squared                              0.0180\n",
      "Partial R-squared                      0.0017\n",
      "Shea's R-squared                       0.0017\n",
      "Partial F-statistic                    3.4019\n",
      "P-value (Partial F-stat)               0.0170\n",
      "Partial F-stat Distn                F(3,5840)\n",
      "==========================        ===========\n",
      "Intercept                              11.478\n",
      "                                     (87.494)\n",
      "C(year_of_birth)[T.31.0]               0.1048\n",
      "                                     (0.7770)\n",
      "C(year_of_birth)[T.32.0]               0.2530\n",
      "                                     (1.9186)\n",
      "C(year_of_birth)[T.33.0]               0.6027\n",
      "                                     (4.5502)\n",
      "C(state_of_birth)[T.2.0]               2.0805\n",
      "                                     (2.9816)\n",
      "C(state_of_birth)[T.4.0]               1.5435\n",
      "                                     (7.8886)\n",
      "C(state_of_birth)[T.5.0]              -0.0752\n",
      "                                    (-0.7531)\n",
      "q1                                    -0.3556\n",
      "                                    (-2.6821)\n",
      "q2                                    -0.3266\n",
      "                                    (-2.4281)\n",
      "q3                                    -0.0972\n",
      "                                    (-0.7334)\n",
      "---------------------------------------------\n",
      "\n",
      "T-stats reported in parentheses\n",
      "T-stats use same covariance type as original model\n"
     ]
    }
   ],
   "source": [
    "#| echo: false\n",
    "#| eval: true\n",
    "#| label: code_example_IV3\n",
    "print(modelIV.first_stage)"
   ]
  },
  {
   "cell_type": "markdown",
   "id": "f5ae3162",
   "metadata": {},
   "source": [
    "\\AddToHookNext{env/verbatim/begin}{\\scriptsize}"
   ]
  },
  {
   "cell_type": "code",
   "execution_count": 34,
   "id": "code_example_IV4",
   "metadata": {},
   "outputs": [
    {
     "name": "stdout",
     "output_type": "stream",
     "text": [
      "                          IV-2SLS Estimation Summary                          \n",
      "==============================================================================\n",
      "Dep. Variable:               log_wage   R-squared:                     -0.0110\n",
      "Estimator:                    IV-2SLS   Adj. R-squared:                -0.0123\n",
      "No. Observations:                5850   F-statistic:                    62.906\n",
      "Date:                Tue, Oct 31 2023   P-value (F-stat)                0.0000\n",
      "Time:                        16:06:15   Distribution:                  chi2(7)\n",
      "Cov. Estimator:            unadjusted                                         \n",
      "                                                                              \n",
      "                                    Parameter Estimates                                     \n",
      "============================================================================================\n",
      "                          Parameter  Std. Err.     T-stat    P-value    Lower CI    Upper CI\n",
      "--------------------------------------------------------------------------------------------\n",
      "Intercept                    4.1112     0.7227     5.6890     0.0000      2.6948      5.5276\n",
      "C(year_of_birth)[T.31.0]     0.0134     0.0284     0.4734     0.6359     -0.0422      0.0691\n",
      "C(year_of_birth)[T.32.0]    -0.0144     0.0316    -0.4556     0.6487     -0.0764      0.0476\n",
      "C(year_of_birth)[T.33.0]    -0.0634     0.0477    -1.3291     0.1838     -0.1568      0.0301\n",
      "C(state_of_birth)[T.2.0]     0.1088     0.1943     0.5599     0.5756     -0.2721      0.4897\n",
      "C(state_of_birth)[T.4.0]     0.0525     0.1059     0.4957     0.6201     -0.1550      0.2600\n",
      "C(state_of_birth)[T.5.0]     0.0893     0.0210     4.2580     0.0000      0.0482      0.1304\n",
      "years_of_schooling           0.1403     0.0640     2.1906     0.0285      0.0148      0.2657\n",
      "============================================================================================\n",
      "\n",
      "Endogenous: years_of_schooling\n",
      "Instruments: q1, q2, q3\n",
      "Unadjusted Covariance (Homoskedastic)\n",
      "Debiased: False\n"
     ]
    }
   ],
   "source": [
    "#| echo: false\n",
    "#| eval: true\n",
    "#| label: code_example_IV4\n",
    "print(modelIV.summary)"
   ]
  },
  {
   "cell_type": "code",
   "execution_count": 35,
   "id": "code_example_IV5",
   "metadata": {},
   "outputs": [
    {
     "name": "stdout",
     "output_type": "stream",
     "text": [
      "Second Stage Schooling Coefficient: 0.14\n"
     ]
    }
   ],
   "source": [
    "#| echo: true\n",
    "#| eval: true\n",
    "#| label: code_example_IV5\n",
    "\n",
    "# extract second stage coefficient\n",
    "schooling_coef = modelIV.params['years_of_schooling']\n",
    "print('Second Stage Schooling Coefficient:',\n",
    "       np.round(schooling_coef, 2))\n",
    "\n",
    "# store residuals and fitted values in the DataFrame\n",
    "ak91_red['residuals'] = modelIV.resids\n",
    "ak91_red['fitted_values'] = modelIV.fitted_values"
   ]
  },
  {
   "cell_type": "markdown",
   "id": "7108182b",
   "metadata": {},
   "source": [
    "## Output Results of Linear Regressions\n",
    "\n",
    "- You can output the results of a linear regression in Latex with the ```as_latex()``` method.\n",
    "\n",
    "- In alternative, you can use the Python version of the R [```stargazer```](https://pypi.org/project/stargazer/) package. \n",
    "    - Very useful for outputting multiple regressions in Latex.\n",
    "\n",
    "- Note: to compare the models created with IV2SLS, you can use the ```compare()``` method.\n",
    "\n",
    "\\AddToHookNext{env/verbatim/begin}{\\scriptsize}"
   ]
  },
  {
   "cell_type": "code",
   "execution_count": 37,
   "id": "code_example_latexoutput",
   "metadata": {},
   "outputs": [
    {
     "name": "stdout",
     "output_type": "stream",
     "text": [
      "\\begin{table}[!htbp] \\centering\n",
      "\\begin{tabular}{@{\\extracolsep{5pt}}lcc}\n",
      "\\\\[-1.8ex]\\hline\n",
      "\\hline \\\\[-1.8ex]\n",
      "\\\\[-1.8ex] & (1) & (2) \\\\\n",
      "\\hline \\\\[-1.8ex]\n",
      " C(auctionid)[T.8211763485] & & -119.586$^{***}$ \\\\\n",
      "& & (10.552) \\\\\n",
      " C(auctionid)[T.8211851222] & & -131.317$^{***}$ \\\\\n",
      "& & (11.486) \\\\\n",
      " C(auctionid)[T.8212110388] & & -161.153$^{***}$ \\\\\n",
      "& & (10.891) \\\\\n",
      " C(auctionid)[T.8212116757] & & -98.591$^{***}$ \\\\\n",
      "& & (12.080) \\\\\n",
      " Intercept & -0.160$^{}$ & 97.883$^{***}$ \\\\\n",
      "& (15.269) & (11.240) \\\\\n",
      " bidtime & & 19.087$^{***}$ \\\\\n",
      "& & (1.630) \\\\\n",
      " n_bidders & 11.410$^{***}$ & \\\\\n",
      "& (1.613) & \\\\\n",
      "\\hline \\\\[-1.8ex]\n",
      " Observations & 93 & 117 \\\\\n",
      " $R^2$ & 0.355 & 0.760 \\\\\n",
      " Adjusted $R^2$ & 0.348 & 0.750 \\\\\n",
      " Residual Std. Error & 60.273 (df=91) & 30.949 (df=111) \\\\\n",
      " F Statistic & 50.014$^{***}$ (df=1; 91) & 70.466$^{***}$ (df=5; 111) \\\\\n",
      "\\hline\n",
      "\\hline \\\\[-1.8ex]\n",
      "\\textit{Note:} & \\multicolumn{2}{r}{$^{*}$p$<$0.1; $^{**}$p$<$0.05; $^{***}$p$<$0.01} \\\\\n",
      "\\end{tabular}\n",
      "\\end{table}\n"
     ]
    }
   ],
   "source": [
    "#| echo: false\n",
    "#| eval: true\n",
    "#| label: code_example_latexoutput\n",
    "\n",
    "# import the stargazer library\n",
    "from stargazer.stargazer import Stargazer\n",
    "print(Stargazer([model, model2]).render_latex())\n",
    "\n",
    "# use the as_latex() method \n",
    "# print(model.summary().as_latex())\n",
    "\n",
    "# print the results of the IV regression\n",
    "# from linearmodels.iv import compare\n",
    "# print(compare([modelIV]).summary.as_latex())"
   ]
  }
 ],
 "metadata": {
  "kernelspec": {
   "display_name": "Python 3 (ipykernel)",
   "language": "python",
   "name": "python3"
  }
 },
 "nbformat": 4,
 "nbformat_minor": 5
}
